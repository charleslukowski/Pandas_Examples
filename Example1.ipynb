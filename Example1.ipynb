{
 "metadata": {
  "name": "Example1"
 },
 "nbformat": 3,
 "nbformat_minor": 0,
 "worksheets": [
  {
   "cells": [
    {
     "cell_type": "markdown",
     "metadata": {},
     "source": [
      "#Example1#\n",
      "\n",
      "Take a basic list of sales and lookup the name based on the account number, and then group and sum by name.\n",
      "\n",
      "\n",
      "\n",
      "\n",
      "\n",
      "\n",
      "\n"
     ]
    },
    {
     "cell_type": "code",
     "collapsed": false,
     "input": [
      "%pylab inline\n",
      "import pandas as pd\n",
      "import matplotlib.pyplot as plt"
     ],
     "language": "python",
     "metadata": {},
     "outputs": [
      {
       "output_type": "stream",
       "stream": "stdout",
       "text": [
        "\n",
        "Welcome to pylab, a matplotlib-based Python environment [backend: module://IPython.zmq.pylab.backend_inline].\n",
        "For more information, type 'help(pylab)'.\n"
       ]
      }
     ],
     "prompt_number": 48
    },
    {
     "cell_type": "markdown",
     "metadata": {},
     "source": [
      "##Step 1 - Create Data##"
     ]
    },
    {
     "cell_type": "code",
     "collapsed": false,
     "input": [
      "df = pd.DataFrame({'acct':[1,2,2,2,4,5],'sales':[25,75,150,100,300,76]}) "
     ],
     "language": "python",
     "metadata": {},
     "outputs": [],
     "prompt_number": 49
    },
    {
     "cell_type": "markdown",
     "metadata": {},
     "source": [
      "###Example Table with Record of Sales by Account###"
     ]
    },
    {
     "cell_type": "code",
     "collapsed": false,
     "input": [
      "df"
     ],
     "language": "python",
     "metadata": {},
     "outputs": [
      {
       "html": [
        "<div style=\"max-height:1000px;max-width:1500px;overflow:auto;\">\n",
        "<table border=\"1\" class=\"dataframe\">\n",
        "  <thead>\n",
        "    <tr style=\"text-align: right;\">\n",
        "      <th></th>\n",
        "      <th>acct</th>\n",
        "      <th>sales</th>\n",
        "    </tr>\n",
        "  </thead>\n",
        "  <tbody>\n",
        "    <tr>\n",
        "      <th>0</th>\n",
        "      <td> 1</td>\n",
        "      <td>  25</td>\n",
        "    </tr>\n",
        "    <tr>\n",
        "      <th>1</th>\n",
        "      <td> 2</td>\n",
        "      <td>  75</td>\n",
        "    </tr>\n",
        "    <tr>\n",
        "      <th>2</th>\n",
        "      <td> 2</td>\n",
        "      <td> 150</td>\n",
        "    </tr>\n",
        "    <tr>\n",
        "      <th>3</th>\n",
        "      <td> 2</td>\n",
        "      <td> 100</td>\n",
        "    </tr>\n",
        "    <tr>\n",
        "      <th>4</th>\n",
        "      <td> 4</td>\n",
        "      <td> 300</td>\n",
        "    </tr>\n",
        "    <tr>\n",
        "      <th>5</th>\n",
        "      <td> 5</td>\n",
        "      <td>  76</td>\n",
        "    </tr>\n",
        "  </tbody>\n",
        "</table>\n",
        "</div>"
       ],
       "output_type": "pyout",
       "prompt_number": 50,
       "text": [
        "   acct  sales\n",
        "0     1     25\n",
        "1     2     75\n",
        "2     2    150\n",
        "3     2    100\n",
        "4     4    300\n",
        "5     5     76"
       ]
      }
     ],
     "prompt_number": 50
    },
    {
     "cell_type": "code",
     "collapsed": false,
     "input": [
      "df2 = pd.DataFrame({'acct':[1,2,3,4,5],'name':['Joe', 'Sam', 'Bill', 'Sue', 'Tom'],'phone':['555', '556', '557','900', '385']})"
     ],
     "language": "python",
     "metadata": {},
     "outputs": [],
     "prompt_number": 51
    },
    {
     "cell_type": "markdown",
     "metadata": {},
     "source": [
      "###Table of Records for Account Details###"
     ]
    },
    {
     "cell_type": "code",
     "collapsed": false,
     "input": [
      "df2"
     ],
     "language": "python",
     "metadata": {},
     "outputs": [
      {
       "html": [
        "<div style=\"max-height:1000px;max-width:1500px;overflow:auto;\">\n",
        "<table border=\"1\" class=\"dataframe\">\n",
        "  <thead>\n",
        "    <tr style=\"text-align: right;\">\n",
        "      <th></th>\n",
        "      <th>acct</th>\n",
        "      <th>name</th>\n",
        "      <th>phone</th>\n",
        "    </tr>\n",
        "  </thead>\n",
        "  <tbody>\n",
        "    <tr>\n",
        "      <th>0</th>\n",
        "      <td> 1</td>\n",
        "      <td>  Joe</td>\n",
        "      <td> 555</td>\n",
        "    </tr>\n",
        "    <tr>\n",
        "      <th>1</th>\n",
        "      <td> 2</td>\n",
        "      <td>  Sam</td>\n",
        "      <td> 556</td>\n",
        "    </tr>\n",
        "    <tr>\n",
        "      <th>2</th>\n",
        "      <td> 3</td>\n",
        "      <td> Bill</td>\n",
        "      <td> 557</td>\n",
        "    </tr>\n",
        "    <tr>\n",
        "      <th>3</th>\n",
        "      <td> 4</td>\n",
        "      <td>  Sue</td>\n",
        "      <td> 900</td>\n",
        "    </tr>\n",
        "    <tr>\n",
        "      <th>4</th>\n",
        "      <td> 5</td>\n",
        "      <td>  Tom</td>\n",
        "      <td> 385</td>\n",
        "    </tr>\n",
        "  </tbody>\n",
        "</table>\n",
        "</div>"
       ],
       "output_type": "pyout",
       "prompt_number": 52,
       "text": [
        "   acct  name phone\n",
        "0     1   Joe   555\n",
        "1     2   Sam   556\n",
        "2     3  Bill   557\n",
        "3     4   Sue   900\n",
        "4     5   Tom   385"
       ]
      }
     ],
     "prompt_number": 52
    },
    {
     "cell_type": "markdown",
     "metadata": {},
     "source": [
      "##Step 2 - Merge (Join) Data##"
     ]
    },
    {
     "cell_type": "markdown",
     "metadata": {},
     "source": [
      "###How to display the name along with the acct for each sale?###\n",
      "\n",
      "- Need to join the records on each tables 'acct' field\n",
      "\n",
      "Use the Pandas merge() function to combine dataframes, the same as you would join database tables"
     ]
    },
    {
     "cell_type": "code",
     "collapsed": false,
     "input": [
      "merged = pd.merge(df, df2, left_on='acct', right_on='acct', how='inner')"
     ],
     "language": "python",
     "metadata": {},
     "outputs": [],
     "prompt_number": 53
    },
    {
     "cell_type": "code",
     "collapsed": false,
     "input": [
      "merged"
     ],
     "language": "python",
     "metadata": {},
     "outputs": [
      {
       "html": [
        "<div style=\"max-height:1000px;max-width:1500px;overflow:auto;\">\n",
        "<table border=\"1\" class=\"dataframe\">\n",
        "  <thead>\n",
        "    <tr style=\"text-align: right;\">\n",
        "      <th></th>\n",
        "      <th>acct</th>\n",
        "      <th>sales</th>\n",
        "      <th>name</th>\n",
        "      <th>phone</th>\n",
        "    </tr>\n",
        "  </thead>\n",
        "  <tbody>\n",
        "    <tr>\n",
        "      <th>0</th>\n",
        "      <td> 1</td>\n",
        "      <td>  25</td>\n",
        "      <td> Joe</td>\n",
        "      <td> 555</td>\n",
        "    </tr>\n",
        "    <tr>\n",
        "      <th>1</th>\n",
        "      <td> 2</td>\n",
        "      <td>  75</td>\n",
        "      <td> Sam</td>\n",
        "      <td> 556</td>\n",
        "    </tr>\n",
        "    <tr>\n",
        "      <th>2</th>\n",
        "      <td> 2</td>\n",
        "      <td> 150</td>\n",
        "      <td> Sam</td>\n",
        "      <td> 556</td>\n",
        "    </tr>\n",
        "    <tr>\n",
        "      <th>3</th>\n",
        "      <td> 2</td>\n",
        "      <td> 100</td>\n",
        "      <td> Sam</td>\n",
        "      <td> 556</td>\n",
        "    </tr>\n",
        "    <tr>\n",
        "      <th>4</th>\n",
        "      <td> 4</td>\n",
        "      <td> 300</td>\n",
        "      <td> Sue</td>\n",
        "      <td> 900</td>\n",
        "    </tr>\n",
        "    <tr>\n",
        "      <th>5</th>\n",
        "      <td> 5</td>\n",
        "      <td>  76</td>\n",
        "      <td> Tom</td>\n",
        "      <td> 385</td>\n",
        "    </tr>\n",
        "  </tbody>\n",
        "</table>\n",
        "</div>"
       ],
       "output_type": "pyout",
       "prompt_number": 54,
       "text": [
        "   acct  sales name phone\n",
        "0     1     25  Joe   555\n",
        "1     2     75  Sam   556\n",
        "2     2    150  Sam   556\n",
        "3     2    100  Sam   556\n",
        "4     4    300  Sue   900\n",
        "5     5     76  Tom   385"
       ]
      }
     ],
     "prompt_number": 54
    },
    {
     "cell_type": "markdown",
     "metadata": {},
     "source": [
      "##Step 3 - Group and Sum Data##"
     ]
    },
    {
     "cell_type": "markdown",
     "metadata": {},
     "source": [
      "###Listing of sales with acct and name. How do we display the total sales by person?###\n",
      "\n",
      "Use Pandas groupby() function and sum the results\n",
      "\n",
      "This is the default\n",
      "\n",
      "    df.groupby('column')\n",
      "\n",
      "We will do the following to sum only the sales values. If we didn't include the ['value'] part, the acct's would be aggregated, also.\n",
      "\n",
      "    df.groupby('column')['value'].sum()"
     ]
    },
    {
     "cell_type": "code",
     "collapsed": false,
     "input": [
      "grouped = merged.groupby('name')['sales'].sum()"
     ],
     "language": "python",
     "metadata": {},
     "outputs": [],
     "prompt_number": 55
    },
    {
     "cell_type": "code",
     "collapsed": false,
     "input": [
      "grouped"
     ],
     "language": "python",
     "metadata": {},
     "outputs": [
      {
       "output_type": "pyout",
       "prompt_number": 56,
       "text": [
        "name\n",
        "Joe      25\n",
        "Sam     325\n",
        "Sue     300\n",
        "Tom      76\n",
        "Name: sales, dtype: int64"
       ]
      }
     ],
     "prompt_number": 56
    },
    {
     "cell_type": "markdown",
     "metadata": {},
     "source": [
      "##Step 4 - Plot the Result##\n"
     ]
    },
    {
     "cell_type": "markdown",
     "metadata": {},
     "source": [
      "###Now to graph the result for a quick analysis###"
     ]
    },
    {
     "cell_type": "code",
     "collapsed": false,
     "input": [
      "grouped.plot(kind='bar', title='Sales by Name')"
     ],
     "language": "python",
     "metadata": {},
     "outputs": [
      {
       "output_type": "pyout",
       "prompt_number": 57,
       "text": [
        "<matplotlib.axes.AxesSubplot at 0x67b4ed0>"
       ]
      },
      {
       "output_type": "display_data",
       "png": "[encoded data removed]"
      }
     ],
     "prompt_number": 57
    },
    {
     "cell_type": "code",
     "collapsed": false,
     "input": [],
     "language": "python",
     "metadata": {},
     "outputs": [],
     "prompt_number": 57
    }
   ],
   "metadata": {}
  }
 ]
}